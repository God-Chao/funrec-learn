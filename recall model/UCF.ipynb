{
 "cells": [
  {
   "cell_type": "code",
   "execution_count": 1,
   "metadata": {},
   "outputs": [],
   "source": [
    "# 协同过滤算法UCF：给用户推荐和他兴趣相似的其他用户喜欢的产品"
   ]
  },
  {
   "cell_type": "code",
   "execution_count": 2,
   "metadata": {},
   "outputs": [
    {
     "data": {
      "text/plain": [
       "array([[1.        , 0.57735027, 0.        ],\n",
       "       [0.57735027, 1.        , 0.40824829],\n",
       "       [0.        , 0.40824829, 1.        ]])"
      ]
     },
     "execution_count": 2,
     "metadata": {},
     "output_type": "execute_result"
    }
   ],
   "source": [
    "# 余弦相似度\n",
    "from sklearn.metrics.pairwise import cosine_similarity\n",
    "\n",
    "i = [1, 0, 0, 0]\n",
    "j = [1, 0, 1, 1]\n",
    "k = [0, 1, 1, 0]\n",
    "\n",
    "cosine_similarity([i, j, k]) # 生成一个3*3的矩阵，表示i,j,k之间的相似度"
   ]
  },
  {
   "cell_type": "code",
   "execution_count": 3,
   "metadata": {},
   "outputs": [
    {
     "data": {
      "text/plain": [
       "PearsonRResult(statistic=0.3333333333333332, pvalue=0.6666666666666667)"
      ]
     },
     "execution_count": 3,
     "metadata": {},
     "output_type": "execute_result"
    }
   ],
   "source": [
    "# 皮尔逊相关系数\n",
    "from scipy.stats import pearsonr\n",
    "\n",
    "i = [1, 0, 0, 0]\n",
    "j = [1, 0, 1, 1]\n",
    "\n",
    "pearsonr(i, j) # 返回两个向量的相关系数和p值"
   ]
  },
  {
   "cell_type": "code",
   "execution_count": 6,
   "metadata": {},
   "outputs": [
    {
     "data": {
      "text/plain": [
       "{'Alice': {'A': 5, 'B': 3, 'C': 4, 'D': 4},\n",
       " 'user1': {'A': 3, 'B': 1, 'C': 2, 'D': 3, 'E': 3},\n",
       " 'user2': {'A': 4, 'B': 3, 'C': 4, 'D': 3, 'E': 5},\n",
       " 'user3': {'A': 3, 'B': 3, 'C': 1, 'D': 5, 'E': 4},\n",
       " 'user4': {'A': 1, 'B': 5, 'C': 5, 'D': 2, 'E': 1}}"
      ]
     },
     "execution_count": 6,
     "metadata": {},
     "output_type": "execute_result"
    }
   ],
   "source": [
    "import numpy as np\n",
    "import pandas as pd\n",
    "\n",
    "# 加载数据，交互记录以字典的形式存储，因为交互矩阵太稀疏\n",
    "def loadData():\n",
    "    users = {'Alice': {'A': 5, 'B': 3, 'C': 4, 'D': 4},\n",
    "             'user1': {'A': 3, 'B': 1, 'C': 2, 'D': 3, 'E': 3},\n",
    "             'user2': {'A': 4, 'B': 3, 'C': 4, 'D': 3, 'E': 5},\n",
    "             'user3': {'A': 3, 'B': 3, 'C': 1, 'D': 5, 'E': 4},\n",
    "             'user4': {'A': 1, 'B': 5, 'C': 5, 'D': 2, 'E': 1}\n",
    "             }\n",
    "    return users\n",
    "\n",
    "user_data = loadData()\n",
    "user_data"
   ]
  },
  {
   "cell_type": "code",
   "execution_count": 7,
   "metadata": {},
   "outputs": [
    {
     "name": "stdout",
     "output_type": "stream",
     "text": [
      "init similarity_matrix: \n",
      "       Alice  user1  user2  user3  user4\n",
      "Alice    1.0    0.0    0.0    0.0    0.0\n",
      "user1    0.0    1.0    0.0    0.0    0.0\n",
      "user2    0.0    0.0    1.0    0.0    0.0\n",
      "user3    0.0    0.0    0.0    1.0    0.0\n",
      "user4    0.0    0.0    0.0    0.0    1.0\n",
      "\n",
      "similarity_matrix: \n",
      "          Alice     user1     user2     user3     user4\n",
      "Alice  1.000000  0.852803  0.707107  0.000000 -0.792118\n",
      "user1  0.852803  1.000000  0.467707  0.489956 -0.900149\n",
      "user2  0.707107  0.467707  1.000000 -0.161165 -0.466569\n",
      "user3  0.000000  0.489956 -0.161165  1.000000 -0.641503\n",
      "user4 -0.792118 -0.900149 -0.466569 -0.641503  1.000000\n",
      "\n"
     ]
    }
   ],
   "source": [
    "# 计算用户相似度矩阵\n",
    "similarity_matrix = pd.DataFrame(\n",
    "    np.identity(len(user_data)),\n",
    "    index=user_data.keys(),\n",
    "    columns=user_data.keys(),\n",
    ") # 初始化相似度矩阵 对角线上的值为1\n",
    "\n",
    "print(f'init similarity_matrix: \\n{similarity_matrix}\\n')\n",
    "\n",
    "for u1, items1 in user_data.items(): \n",
    "    for u2, items2 in user_data.items():\n",
    "        if u1 == u2:\n",
    "            continue\n",
    "        vec1, vec2 = [], []\n",
    "        # items1是u1的交互记录，items2是u2的交互记录\n",
    "        for item, rating1 in items1.items():\n",
    "            rating2 = items2.get(item, -1) # 如果u2没有交互过这个item，返回-1\n",
    "            if rating2 == -1:\n",
    "                continue\n",
    "            vec1.append(rating1)\n",
    "            vec2.append(rating2)\n",
    "        # 计算不同用户之间的皮尔逊相关系数\n",
    "        similarity_matrix[u1][u2] = np.corrcoef(vec1, vec2)[0][1]\n",
    "\n",
    "print(f'similarity_matrix: \\n{similarity_matrix}\\n')"
   ]
  },
  {
   "cell_type": "code",
   "execution_count": 8,
   "metadata": {},
   "outputs": [
    {
     "name": "stdout",
     "output_type": "stream",
     "text": [
      "与用户Alice最相似的2个用户为：['user1', 'user2']\n",
      "\n"
     ]
    }
   ],
   "source": [
    "# 计算用户Alice的knn\n",
    "target_user = 'Alice'\n",
    "n = 2\n",
    "sim_users = similarity_matrix[target_user].sort_values(ascending=False)[1:n+1].index.tolist()\n",
    "print(f'与用户{target_user}最相似的{n}个用户为：{sim_users}\\n')"
   ]
  },
  {
   "cell_type": "code",
   "execution_count": null,
   "metadata": {},
   "outputs": [
    {
     "name": "stdout",
     "output_type": "stream",
     "text": [
      "用户Alice对物品E的预测评分为：4.871979899370592\n"
     ]
    }
   ],
   "source": [
    "# 预测用户Alice对物品E的评分\n",
    "weighted_scores = 0.\n",
    "corr_values_sum = 0.\n",
    "\n",
    "target_item = 'E'\n",
    "# 基于皮尔逊相关系数预测用户评分\n",
    "for user in sim_users:\n",
    "    corr_value = similarity_matrix[target_user][user]\n",
    "    user_mean_rating = np.mean(list(user_data[user].values()))\n",
    "\n",
    "    weighted_scores += corr_value * (user_data[user][target_item] - user_mean_rating)\n",
    "    corr_values_sum += corr_value\n",
    "\n",
    "target_user_mean_rating = np.mean(list(user_data[target_user].values()))\n",
    "target_item_pred = target_user_mean_rating + weighted_scores / corr_values_sum\n",
    "print(f'用户{target_user}对物品{target_item}的预测评分为：{target_item_pred}')\n"
   ]
  },
  {
   "cell_type": "code",
   "execution_count": 5,
   "metadata": {},
   "outputs": [],
   "source": [
    "# 评估指标\n",
    "# 召回率Recall：模型推荐的物品中用户实际喜欢的物品 / 用户实际喜欢的物品总数\n",
    "# 精确率Precision：模型推荐的物品中用户实际喜欢的物品 / 模型推荐的物品总数\n",
    "# 覆盖率Coverage：模型推荐的物品数 / 物品总数"
   ]
  }
 ],
 "metadata": {
  "kernelspec": {
   "display_name": "gluon",
   "language": "python",
   "name": "python3"
  },
  "language_info": {
   "codemirror_mode": {
    "name": "ipython",
    "version": 3
   },
   "file_extension": ".py",
   "mimetype": "text/x-python",
   "name": "python",
   "nbconvert_exporter": "python",
   "pygments_lexer": "ipython3",
   "version": "3.8.19"
  }
 },
 "nbformat": 4,
 "nbformat_minor": 2
}
