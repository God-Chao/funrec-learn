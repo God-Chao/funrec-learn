{
 "cells": [
  {
   "cell_type": "code",
   "execution_count": 1,
   "metadata": {},
   "outputs": [],
   "source": [
    "import random\n",
    "import math"
   ]
  },
  {
   "cell_type": "code",
   "execution_count": 2,
   "metadata": {},
   "outputs": [
    {
     "data": {
      "text/plain": [
       "{1: {'A': 5, 'B': 3, 'C': 4, 'D': 4},\n",
       " 2: {'A': 3, 'B': 1, 'C': 2, 'D': 3, 'E': 3},\n",
       " 3: {'A': 4, 'B': 3, 'C': 4, 'D': 3, 'E': 5},\n",
       " 4: {'A': 3, 'B': 3, 'C': 1, 'D': 5, 'E': 4},\n",
       " 5: {'A': 1, 'B': 5, 'C': 5, 'D': 2, 'E': 1}}"
      ]
     },
     "execution_count": 2,
     "metadata": {},
     "output_type": "execute_result"
    }
   ],
   "source": [
    "# 加载数据\n",
    "def loadData():\n",
    "    rating_data={1: {'A': 5, 'B': 3, 'C': 4, 'D': 4},\n",
    "           2: {'A': 3, 'B': 1, 'C': 2, 'D': 3, 'E': 3},\n",
    "           3: {'A': 4, 'B': 3, 'C': 4, 'D': 3, 'E': 5},\n",
    "           4: {'A': 3, 'B': 3, 'C': 1, 'D': 5, 'E': 4},\n",
    "           5: {'A': 1, 'B': 5, 'C': 5, 'D': 2, 'E': 1}\n",
    "          }\n",
    "    return rating_data\n",
    "\n",
    "rating_data = loadData()\n",
    "rating_data"
   ]
  },
  {
   "cell_type": "code",
   "execution_count": 3,
   "metadata": {},
   "outputs": [],
   "source": [
    "# 定义模型\n",
    "class BiasSVD():\n",
    "    def __init__(self, rating_data, dim=5, alpha=0.1, lmbda=0.1, epochs=100):\n",
    "        self.dim = dim          # 这个表示隐向量的维度\n",
    "        self.P = dict()     # 用户矩阵P  大小是[users_num, dim]\n",
    "        self.Q = dict()     # 物品矩阵Q  大小是[item_nums, dim]\n",
    "        self.bu = dict()    # 用户偏置系数\n",
    "        self.bi = dict()    # 物品偏置系数\n",
    "        self.mu = 0         # 全局偏置系数\n",
    "        self.alpha = alpha  # 学习率\n",
    "        self.lmbda = lmbda  # 正则项系数\n",
    "        self.epochs = epochs        # 最大迭代次数\n",
    "        self.rating_data = rating_data  # 评分矩阵\n",
    "\n",
    "        for user, items in self.rating_data.items():\n",
    "            # 初始化矩阵P和Q, 随机数需要和1/sqrt(dim)成正比\n",
    "            self.P[user] = [random.random() / math.sqrt(self.dim) for x in range(0, dim)]\n",
    "            self.bu[user] = 0\n",
    "            for item, rating in items.items():\n",
    "                if item not in self.Q:\n",
    "                    self.Q[item] = [random.random() / math.sqrt(self.dim) for x in range(0, dim)]\n",
    "                    self.bi[item] = 0\n",
    "\n",
    "    # 采用随机梯度下降的方式训练模型参数\n",
    "    def train(self):\n",
    "        \n",
    "        # 计算全局平均分\n",
    "        cnt, mu_sum = 0, 0\n",
    "        for user, items in self.rating_data.items():\n",
    "            for item, rui in items.items():\n",
    "                mu_sum, cnt = mu_sum + rui, cnt + 1\n",
    "        self.mu = mu_sum / cnt\n",
    "\n",
    "        for epoch in range(self.epochs):\n",
    "            # 遍历所有的用户及历史交互物品\n",
    "            for user, items in self.rating_data.items():\n",
    "                # 遍历历史交互物品\n",
    "                for item, rui in items.items():\n",
    "                    rhat_ui = self.predict(user, item)  # 评分预测\n",
    "                    e_ui = rui - rhat_ui                  # 评分预测偏差\n",
    "\n",
    "                    # 参数更新\n",
    "                    self.bu[user] += self.alpha * (e_ui - self.lmbda * self.bu[user])\n",
    "                    self.bi[item] += self.alpha * (e_ui - self.lmbda * self.bi[item])\n",
    "                    for k in range(0, self.dim):\n",
    "                        self.P[user][k] += self.alpha * (e_ui * self.Q[item][k] - self.lmbda * self.P[user][k])\n",
    "                        self.Q[item][k] += self.alpha * (e_ui * self.P[user][k] - self.lmbda * self.Q[item][k])\n",
    "            # 逐步降低学习率\n",
    "            self.alpha *= 0.1\n",
    "\n",
    "\n",
    "    # 评分预测\n",
    "    def predict(self, user, item):\n",
    "        return sum(self.P[user][dim] * self.Q[item][dim] for dim in range(0, self.dim)) + self.bu[user] + self.bi[\n",
    "            item] + self.mu\n",
    "    \n",
    "model = BiasSVD(rating_data, dim=10)"
   ]
  },
  {
   "cell_type": "code",
   "execution_count": 4,
   "metadata": {},
   "outputs": [
    {
     "name": "stdout",
     "output_type": "stream",
     "text": [
      "E 3.647434779167003\n"
     ]
    }
   ],
   "source": [
    "# 模型训练\n",
    "model.train()\n",
    "\n",
    "# 预测用户1对物品E的评分\n",
    "for item in ['E']:\n",
    "    print(item, model.predict(1, item))"
   ]
  },
  {
   "cell_type": "code",
   "execution_count": 5,
   "metadata": {},
   "outputs": [],
   "source": [
    "# 使用torch实现\n",
    "import torch\n",
    "import torch.nn as nn\n",
    "import torch.optim as optim\n",
    "\n",
    "class BiasSVD(nn.Module):\n",
    "    def __init__(self, dim, num_users, num_items):\n",
    "        super().__init__()\n",
    "        self.P = nn.Embedding(num_users, dim)\n",
    "        self.Q = nn.Embedding(num_items, dim)\n",
    "        self.bu = nn.Embedding(num_users, 1)\n",
    "        self.bi = nn.Embedding(num_items, 1)\n",
    "        self.mu = nn.Parameter(torch.tensor(0.0))\n",
    "\n",
    "        # 初始化参数\n",
    "        nn.init.normal_(self.P.weight, std=0.01)\n",
    "        nn.init.normal_(self.Q.weight, std=0.01)\n",
    "        nn.init.constant_(self.bu.weight, 0.0)\n",
    "        nn.init.constant_(self.bi.weight, 0.0)\n",
    "\n",
    "    def forward(self, user_ids, item_ids):\n",
    "        p_u = self.P(user_ids)  # 用户隐向量\n",
    "        q_i = self.Q(item_ids)  # 物品隐向量\n",
    "        \n",
    "        bu = self.bu(user_ids).squeeze()\n",
    "        bi = self.bi(item_ids).squeeze()\n",
    "        \n",
    "        pred = (p_u * q_i).sum(dim=1) + bu + bi + self.mu\n",
    "        return pred\n",
    "    \n",
    "# 求用户和物品的个数\n",
    "user_to_idx = {user: idx for idx, user in enumerate(rating_data.keys())}\n",
    "item_to_idx = {item: idx for idx, item in enumerate(set(i for u in rating_data for i in rating_data[u]))}\n",
    "num_users = len(user_to_idx)\n",
    "num_items = len(item_to_idx)\n",
    "\n",
    "model = BiasSVD(dim=10, num_users=num_users, num_items=num_items)\n",
    "optimizer = optim.Adam(model.parameters(), lr=0.01, weight_decay=0.1)\n",
    "criterion = nn.MSELoss()"
   ]
  },
  {
   "cell_type": "code",
   "execution_count": 6,
   "metadata": {},
   "outputs": [
    {
     "name": "stdout",
     "output_type": "stream",
     "text": [
      "Epoch 0, Loss: 12.0414\n",
      "Epoch 10, Loss: 9.8609\n",
      "Epoch 20, Loss: 6.9644\n",
      "Epoch 30, Loss: 3.8477\n",
      "Epoch 40, Loss: 1.8926\n",
      "Epoch 50, Loss: 1.4653\n",
      "Epoch 60, Loss: 1.3813\n",
      "Epoch 70, Loss: 1.4253\n",
      "Epoch 80, Loss: 1.4278\n",
      "Epoch 90, Loss: 1.3843\n",
      "4.112499237060547\n"
     ]
    }
   ],
   "source": [
    "# 训练模型\n",
    "train_data = []\n",
    "for user, items in rating_data.items():\n",
    "    for item, rating in items.items():\n",
    "        train_data.append((user_to_idx[user], item_to_idx[item], rating))\n",
    "\n",
    "train_tensor = torch.tensor(train_data, dtype=torch.long)\n",
    "user_ids, item_ids, ratings = train_tensor[:, 0], train_tensor[:, 1], train_tensor[:, 2].float()\n",
    "\n",
    "epochs = 100\n",
    "for epoch in range(epochs):\n",
    "    model.train()\n",
    "    optimizer.zero_grad()\n",
    "    predict = model(user_ids, item_ids)\n",
    "    loss = criterion(predict, ratings)\n",
    "    loss.backward()\n",
    "    optimizer.step()\n",
    "    if epoch % 10 == 0:\n",
    "        print(f\"Epoch {epoch}, Loss: {loss.item():.4f}\")\n",
    "\n",
    "# 预测用户1对物品E的评分\n",
    "user_id = torch.tensor([user_to_idx[1]], dtype=torch.long)\n",
    "item_id = torch.tensor([item_to_idx['E']], dtype=torch.long)\n",
    "model.eval()\n",
    "predict = model(user_id, item_id)\n",
    "print(predict.item())"
   ]
  }
 ],
 "metadata": {
  "kernelspec": {
   "display_name": "gluon",
   "language": "python",
   "name": "python3"
  },
  "language_info": {
   "codemirror_mode": {
    "name": "ipython",
    "version": 3
   },
   "file_extension": ".py",
   "mimetype": "text/x-python",
   "name": "python",
   "nbconvert_exporter": "python",
   "pygments_lexer": "ipython3",
   "version": "3.8.19"
  }
 },
 "nbformat": 4,
 "nbformat_minor": 2
}
