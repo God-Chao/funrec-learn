{
 "cells": [
  {
   "cell_type": "code",
   "execution_count": 1,
   "metadata": {},
   "outputs": [],
   "source": [
    "from itertools import combinations\n",
    "import pandas as pd\n",
    "\n",
    "alpha = 0.5\n",
    "top_k = 20"
   ]
  },
  {
   "cell_type": "code",
   "execution_count": 2,
   "metadata": {},
   "outputs": [
    {
     "data": {
      "text/html": [
       "<div>\n",
       "<style scoped>\n",
       "    .dataframe tbody tr th:only-of-type {\n",
       "        vertical-align: middle;\n",
       "    }\n",
       "\n",
       "    .dataframe tbody tr th {\n",
       "        vertical-align: top;\n",
       "    }\n",
       "\n",
       "    .dataframe thead th {\n",
       "        text-align: right;\n",
       "    }\n",
       "</style>\n",
       "<table border=\"1\" class=\"dataframe\">\n",
       "  <thead>\n",
       "    <tr style=\"text-align: right;\">\n",
       "      <th></th>\n",
       "      <th>userid</th>\n",
       "      <th>itemid</th>\n",
       "      <th>rate</th>\n",
       "    </tr>\n",
       "  </thead>\n",
       "  <tbody>\n",
       "    <tr>\n",
       "      <th>0</th>\n",
       "      <td>1</td>\n",
       "      <td>101</td>\n",
       "      <td>5</td>\n",
       "    </tr>\n",
       "    <tr>\n",
       "      <th>1</th>\n",
       "      <td>1</td>\n",
       "      <td>102</td>\n",
       "      <td>3</td>\n",
       "    </tr>\n",
       "    <tr>\n",
       "      <th>2</th>\n",
       "      <td>1</td>\n",
       "      <td>103</td>\n",
       "      <td>4</td>\n",
       "    </tr>\n",
       "    <tr>\n",
       "      <th>3</th>\n",
       "      <td>1</td>\n",
       "      <td>104</td>\n",
       "      <td>2</td>\n",
       "    </tr>\n",
       "    <tr>\n",
       "      <th>4</th>\n",
       "      <td>2</td>\n",
       "      <td>105</td>\n",
       "      <td>4</td>\n",
       "    </tr>\n",
       "  </tbody>\n",
       "</table>\n",
       "</div>"
      ],
      "text/plain": [
       "   userid  itemid  rate\n",
       "0       1     101     5\n",
       "1       1     102     3\n",
       "2       1     103     4\n",
       "3       1     104     2\n",
       "4       2     105     4"
      ]
     },
     "execution_count": 2,
     "metadata": {},
     "output_type": "execute_result"
    }
   ],
   "source": [
    "# 读取数据\n",
    "def load_data(train_path):\n",
    "    train_data = pd.read_csv(train_path, sep=\"\\t\", engine=\"python\", names=[\"userid\", \"itemid\", \"rate\"])#提取用户交互记录数据\n",
    "    return train_data\n",
    "\n",
    "train_data_path = \"./ratings_final.txt\"\n",
    "train_data = load_data(train_data_path)\n",
    "train_data.head()"
   ]
  },
  {
   "cell_type": "code",
   "execution_count": 3,
   "metadata": {},
   "outputs": [
    {
     "name": "stdout",
     "output_type": "stream",
     "text": [
      "使用的用户个数为：20\n",
      "使用的item个数为：20\n"
     ]
    },
    {
     "data": {
      "text/plain": [
       "({1: {101, 102, 103, 104},\n",
       "  2: {105, 106, 107, 108},\n",
       "  3: {109, 110, 111, 112},\n",
       "  4: {113, 114, 115, 116},\n",
       "  5: {117, 118, 119, 120},\n",
       "  6: {101, 102, 103, 104},\n",
       "  7: {105, 106, 107, 108},\n",
       "  8: {109, 110, 111, 112},\n",
       "  9: {113, 114, 115, 116},\n",
       "  10: {117, 118, 119, 120},\n",
       "  11: {101, 102, 103, 104},\n",
       "  12: {105, 106, 107, 108},\n",
       "  13: {109, 110, 111, 112},\n",
       "  14: {113, 114, 115, 116},\n",
       "  15: {117, 118, 119, 120},\n",
       "  16: {101, 102, 103, 104},\n",
       "  17: {105, 106, 107, 108},\n",
       "  18: {109, 110, 111, 112},\n",
       "  19: {113, 114, 115, 116},\n",
       "  20: {117, 118, 119, 120}},\n",
       " {101: {1, 6, 11, 16},\n",
       "  102: {1, 6, 11, 16},\n",
       "  103: {1, 6, 11, 16},\n",
       "  104: {1, 6, 11, 16},\n",
       "  105: {2, 7, 12, 17},\n",
       "  106: {2, 7, 12, 17},\n",
       "  107: {2, 7, 12, 17},\n",
       "  108: {2, 7, 12, 17},\n",
       "  109: {3, 8, 13, 18},\n",
       "  110: {3, 8, 13, 18},\n",
       "  111: {3, 8, 13, 18},\n",
       "  112: {3, 8, 13, 18},\n",
       "  113: {4, 9, 14, 19},\n",
       "  114: {4, 9, 14, 19},\n",
       "  115: {4, 9, 14, 19},\n",
       "  116: {4, 9, 14, 19},\n",
       "  117: {5, 10, 15, 20},\n",
       "  118: {5, 10, 15, 20},\n",
       "  119: {5, 10, 15, 20},\n",
       "  120: {5, 10, 15, 20}})"
      ]
     },
     "execution_count": 3,
     "metadata": {},
     "output_type": "execute_result"
    }
   ],
   "source": [
    "# 得到用户和物品的交互字典\n",
    "def get_uitems_iusers(train):\n",
    "    u_items = dict()\n",
    "    i_users = dict()\n",
    "    for index, row in train.iterrows(): #处理用户交互记录 \n",
    "        u_items.setdefault(row[\"userid\"], set())\n",
    "        i_users.setdefault(row[\"itemid\"], set())\n",
    "        u_items[row[\"userid\"]].add(row[\"itemid\"]) #得到user交互过的所有item\n",
    "        i_users[row[\"itemid\"]].add(row[\"userid\"]) #得到item交互过的所有user\n",
    "    print(\"使用的用户个数为：{}\".format(len(u_items)))\n",
    "    print(\"使用的item个数为：{}\".format(len(i_users)))\n",
    "    return u_items, i_users \n",
    "\n",
    "u_items, i_users = get_uitems_iusers(train_data)\n",
    "u_items, i_users"
   ]
  },
  {
   "cell_type": "code",
   "execution_count": 4,
   "metadata": {},
   "outputs": [
    {
     "name": "stdout",
     "output_type": "stream",
     "text": [
      "item pairs length：190\n"
     ]
    },
    {
     "data": {
      "text/plain": [
       "{101: {102: '1.333333', 103: '1.333333', 104: '1.333333'},\n",
       " 102: {103: '1.333333', 104: '1.333333'},\n",
       " 103: {104: '1.333333'},\n",
       " 105: {106: '1.333333', 107: '1.333333', 108: '1.333333'},\n",
       " 106: {107: '1.333333', 108: '1.333333'},\n",
       " 107: {108: '1.333333'},\n",
       " 109: {110: '1.333333', 111: '1.333333', 112: '1.333333'},\n",
       " 110: {111: '1.333333', 112: '1.333333'},\n",
       " 111: {112: '1.333333'},\n",
       " 113: {114: '1.333333', 115: '1.333333', 116: '1.333333'},\n",
       " 114: {115: '1.333333', 116: '1.333333'},\n",
       " 115: {116: '1.333333'},\n",
       " 117: {118: '1.333333', 119: '1.333333', 120: '1.333333'},\n",
       " 118: {119: '1.333333', 120: '1.333333'},\n",
       " 119: {120: '1.333333'}}"
      ]
     },
     "execution_count": 4,
     "metadata": {},
     "output_type": "execute_result"
    }
   ],
   "source": [
    "# 定义swing模型\n",
    "def swing_model(u_items, i_users):\n",
    "    item_pairs = list(combinations(i_users.keys(), 2)) # 全排列组合对\n",
    "    print(\"item pairs length：{}\".format(len(item_pairs)))\n",
    "    item_sim_dict = dict()\n",
    "    for (i, j) in item_pairs:\n",
    "        user_pairs = list(combinations(i_users[i] & i_users[j], 2)) #item_i和item_j对应的user取交集后全排列 得到user对\n",
    "        result = 0\n",
    "        for (u, v) in user_pairs:\n",
    "            result += 1 / (alpha + list(u_items[u] & u_items[v]).__len__()) #分数公式\n",
    "        if result != 0 :\n",
    "            item_sim_dict.setdefault(i, dict())\n",
    "            item_sim_dict[i][j] = format(result, '.6f')\n",
    "    return item_sim_dict\n",
    "\n",
    "item_sim_dict = swing_model(u_items, i_users)\n",
    "item_sim_dict"
   ]
  },
  {
   "cell_type": "code",
   "execution_count": 5,
   "metadata": {},
   "outputs": [
    {
     "name": "stdout",
     "output_type": "stream",
     "text": [
      "SUCCESS: top_10 item saved\n"
     ]
    }
   ],
   "source": [
    "def save_item_sims(item_sim_dict, top_k, path):\n",
    "    new_item_sim_dict = dict()\n",
    "    try:\n",
    "        writer = open(path, 'w', encoding='utf-8')\n",
    "        for item, sim_items in item_sim_dict.items():\n",
    "            new_item_sim_dict.setdefault(item, dict())\n",
    "            new_item_sim_dict[item] = dict(sorted(sim_items.items(), key = lambda k:k[1], reverse=True)[:top_k])#排序取出 top_k个相似的item\n",
    "            writer.write('item_id:%d\\t%s\\n' % (item, new_item_sim_dict[item]))\n",
    "        print(\"SUCCESS: top_{} item saved\".format(top_k))\n",
    "    except Exception as e:\n",
    "        print(e.args)\n",
    "\n",
    "item_sim_save_path = \"./item_sim_dict.txt\"\n",
    "top_k = 10 #与item相似的前 k 个item\n",
    "save_item_sims(item_sim_dict, top_k, item_sim_save_path)"
   ]
  }
 ],
 "metadata": {
  "kernelspec": {
   "display_name": "gluon",
   "language": "python",
   "name": "python3"
  },
  "language_info": {
   "codemirror_mode": {
    "name": "ipython",
    "version": 3
   },
   "file_extension": ".py",
   "mimetype": "text/x-python",
   "name": "python",
   "nbconvert_exporter": "python",
   "pygments_lexer": "ipython3",
   "version": "3.8.19"
  }
 },
 "nbformat": 4,
 "nbformat_minor": 2
}
